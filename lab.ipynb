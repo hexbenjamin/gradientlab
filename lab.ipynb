{
 "cells": [
  {
   "cell_type": "markdown",
   "id": "ec56e198-9931-4822-af2d-994fd162309b",
   "metadata": {},
   "source": [
    "# gradient lab"
   ]
  },
  {
   "cell_type": "markdown",
   "id": "77bc67e5-4aa9-440e-a7f8-fbd1a7215f13",
   "metadata": {},
   "source": [
    "## setup"
   ]
  },
  {
   "cell_type": "code",
   "execution_count": 46,
   "id": "76ae8716-fa2e-4a3f-b2c3-c2ab82ab455c",
   "metadata": {},
   "outputs": [],
   "source": [
    "from PIL import Image\n",
    "import matplotlib.pyplot as plt\n",
    "import numpy as np"
   ]
  },
  {
   "cell_type": "markdown",
   "id": "f10efa32-4c3a-4ee4-8103-4f97ac65edfd",
   "metadata": {},
   "source": [
    "## functions"
   ]
  },
  {
   "cell_type": "code",
   "execution_count": 47,
   "id": "051b2037-3826-454a-aed9-2a37fe600947",
   "metadata": {},
   "outputs": [],
   "source": [
    "def get_gradient_2d(start, stop, width, height, is_horizontal):\n",
    "    if is_horizontal:\n",
    "        return np.tile(np.linspace(start, stop, width), (height, 1))\n",
    "    else:\n",
    "        return np.tile(np.linspace(start, stop, height), (width, 1)).T"
   ]
  },
  {
   "cell_type": "code",
   "execution_count": 48,
   "id": "ace94e23-4d11-444f-99d5-3787326c19c1",
   "metadata": {},
   "outputs": [],
   "source": [
    "def get_gradient_3d(width, height, start_list, stop_list, is_horizontal_list):\n",
    "    result = np.zeros((height, width, len(start_list)), dtype=float)\n",
    "    for i, (start, stop, is_horizontal) in enumerate(\n",
    "        zip(start_list, stop_list, is_horizontal_list)\n",
    "    ):\n",
    "        result[:, :, i] = get_gradient_2d(start, stop, width, height, is_horizontal)\n",
    "    return np.uint8(result)"
   ]
  },
  {
   "cell_type": "markdown",
   "id": "b211922d-a88a-44b5-abfb-ee4f6d55ab38",
   "metadata": {},
   "source": [
    "## config"
   ]
  },
  {
   "cell_type": "code",
   "execution_count": 80,
   "id": "caa314c8-4888-41d5-b633-fc4ffa4580e9",
   "metadata": {},
   "outputs": [],
   "source": [
    "WIDTH = 512\n",
    "HEIGHT = 512\n",
    "\n",
    "R = (0, 255)\n",
    "G = (0, 255)\n",
    "B = (192, 64)\n",
    "\n",
    "H = (True, False, True)"
   ]
  },
  {
   "cell_type": "markdown",
   "id": "8ba1e0b9-b3c0-44c8-8005-644e684002ea",
   "metadata": {},
   "source": [
    "# main"
   ]
  },
  {
   "cell_type": "code",
   "execution_count": 73,
   "id": "e2798949-bbed-49ed-a49d-28b6f090ea21",
   "metadata": {},
   "outputs": [],
   "source": [
    "width, height = 512, 512\n",
    "x = np.linspace(-1, 1, width)\n",
    "y = np.linspace(-1, 1, height)\n",
    "X, Y = np.meshgrid(x, y)\n",
    "R = np.sqrt(X**2 + Y**2)\n",
    "R = R / R.max() * 255\n",
    "\n",
    "# plt.imshow(R.astype(np.uint8), cmap=\"grey\")\n",
    "# plt.show()"
   ]
  },
  {
   "cell_type": "code",
   "execution_count": 81,
   "id": "a91a3d9a-f22b-4982-b5f0-1e0a8fc36a59",
   "metadata": {
    "editable": true,
    "slideshow": {
     "slide_type": ""
    },
    "tags": []
   },
   "outputs": [
    {
     "data": {
      "image/png": "[encoded data removed]",
      "text/plain": [
       "<Figure size 640x480 with 1 Axes>"
      ]
     },
     "metadata": {},
     "output_type": "display_data"
    }
   ],
   "source": [
    "starts, stops = [tuple(r) for r in np.array([R, G, B]).T]\n",
    "\n",
    "gradient = get_gradient_3d(WIDTH, HEIGHT, starts, stops, H)\n",
    "\n",
    "# # image output\n",
    "# Image.fromarray(gradient).save(\"gradient.jpg\", quality=95)\n",
    "\n",
    "# # plot output\n",
    "plt.imshow(gradient)\n",
    "plt.show()"
   ]
  },
  {
   "cell_type": "markdown",
   "id": "8de68788-a666-457f-a591-18968044bb5d",
   "metadata": {},
   "source": [
    "## setup"
   ]
  },
  {
   "cell_type": "code",
   "execution_count": 55,
   "id": "88b5fc02-a11a-43fd-85c8-f2f8e43e2352",
   "metadata": {},
   "outputs": [],
   "source": [
    "from rich.console import Console\n",
    "\n",
    "C = Console()\n",
    "\n",
    "from colour import Color"
   ]
  },
  {
   "cell_type": "markdown",
   "id": "f95f4228-c724-4e67-ad27-599ee3d437a3",
   "metadata": {},
   "source": [
    "## functions"
   ]
  },
  {
   "cell_type": "code",
   "execution_count": 56,
   "id": "ebe4c78c-f4c9-4f0b-803f-15122c382e8c",
   "metadata": {},
   "outputs": [],
   "source": [
    "def print_hex(hex_code):\n",
    "    C.print(hex_code.upper(), style=f\"bold {hex_code}\")"
   ]
  },
  {
   "cell_type": "markdown",
   "id": "6804e4a1-085e-4a7a-88be-72252d27e9f5",
   "metadata": {},
   "source": [
    "## main"
   ]
  },
  {
   "cell_type": "code",
   "execution_count": 57,
   "id": "7cf5b187-c0cd-48e9-8991-f5ff86988013",
   "metadata": {},
   "outputs": [
    {
     "data": {
      "text/html": [
       "<pre style=\"white-space:pre;overflow-x:auto;line-height:normal;font-family:Menlo,'DejaVu Sans Mono',consolas,'Courier New',monospace\"><span style=\"color: #b2a2c1; text-decoration-color: #b2a2c1; font-weight: bold\">#B2A2C1</span>\n",
       "</pre>\n"
      ],
      "text/plain": [
       "\u001b[1;38;2;178;162;193m#B2A2C1\u001b[0m\n"
      ]
     },
     "metadata": {},
     "output_type": "display_data"
    }
   ],
   "source": [
    "print_hex(\"#b2a2c1\")"
   ]
  },
  {
   "cell_type": "code",
   "execution_count": 63,
   "id": "bdb02c15-96e9-4c80-9ef4-775415775e18",
   "metadata": {},
   "outputs": [
    {
     "data": {
      "text/html": [
       "<pre style=\"white-space:pre;overflow-x:auto;line-height:normal;font-family:Menlo,'DejaVu Sans Mono',consolas,'Courier New',monospace\"><span style=\"color: #0000c0; text-decoration-color: #0000c0; font-weight: bold\">#0000C0</span>\n",
       "</pre>\n"
      ],
      "text/plain": [
       "\u001b[1;38;2;0;0;192m#0000C0\u001b[0m\n"
      ]
     },
     "metadata": {},
     "output_type": "display_data"
    },
    {
     "data": {
      "text/html": [
       "<pre style=\"white-space:pre;overflow-x:auto;line-height:normal;font-family:Menlo,'DejaVu Sans Mono',consolas,'Courier New',monospace\"><span style=\"color: #ffff40; text-decoration-color: #ffff40; font-weight: bold\">#FFFF40</span>\n",
       "</pre>\n"
      ],
      "text/plain": [
       "\u001b[1;38;2;255;255;64m#FFFF40\u001b[0m\n"
      ]
     },
     "metadata": {},
     "output_type": "display_data"
    }
   ],
   "source": [
    "print_hex(Color(rgb=[x / 255 for x in starts]).hex_l)\n",
    "print_hex(Color(rgb=[x / 255 for x in stops]).hex_l)"
   ]
  },
  {
   "cell_type": "code",
   "execution_count": null,
   "id": "6c5d7f47-c288-438c-8e4c-d07c5cc8c986",
   "metadata": {},
   "outputs": [],
   "source": []
  }
 ],
 "metadata": {
  "kernelspec": {
   "display_name": "Python 3 (ipykernel)",
   "language": "python",
   "name": "python3"
  },
  "language_info": {
   "codemirror_mode": {
    "name": "ipython",
    "version": 3
   },
   "file_extension": ".py",
   "mimetype": "text/x-python",
   "name": "python",
   "nbconvert_exporter": "python",
   "pygments_lexer": "ipython3",
   "version": "3.11.4"
  }
 },
 "nbformat": 4,
 "nbformat_minor": 5
}
